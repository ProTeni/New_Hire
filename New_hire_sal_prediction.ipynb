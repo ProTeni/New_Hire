{
 "cells": [
  {
   "cell_type": "markdown",
   "id": "43cb46d1",
   "metadata": {},
   "source": [
    "**Business Problem Summary:**\n",
    "\n",
    "As a data scientist at a growing startup, one of the challenges is establishing a fair and consistent pay scale across all roles while considering employees' years of experience. Currently, each staff member negotiates their salary independently, and the company lacks both a structured pay scale and defined job levels.\n",
    "\n",
    "Currently, there's no structured pay system in place, and all employees negotiated their salaries individually, leading to lot of discrepancies and biases in offers to new hires.\n",
    "\n",
    "The aim is to introduce a transparent pay scale that categorizes roles based on years of experience, ensuring that new hires are not unfairly compensated compared to existing employees. \n",
    "\n",
    "\n",
    "**Business Problem Details:**\n",
    "1. **Creating a fair salary framework::** The objective is to create a fair and transparent pay scale that categorizes roles based on years of experience, ensuring consistency and equality in compensation across the organization.\n",
    "  \n",
    "2. **Introduction of Job Levels:** By categorizing roles into job levels based on years of experience (e.g., 0-2 years as Analyst, 2-4 years as Associate, etc.), the organization aims to provide a structured framework for salary determination.\n",
    " \n",
    " \n",
    " **To arrive at a fair pay scale, salary data of current staff and their years of experiences are used**"
   ]
  },
  {
   "cell_type": "code",
   "execution_count": 144,
   "id": "d6219b57",
   "metadata": {},
   "outputs": [],
   "source": [
    "import numpy as np\n",
    "import pandas as pd\n",
    "import matplotlib.pyplot as plt\n",
    "import seaborn as sns"
   ]
  },
  {
   "cell_type": "code",
   "execution_count": 145,
   "id": "4a8a0d3a",
   "metadata": {},
   "outputs": [],
   "source": [
    "df = pd.read_csv(r\"C:\\Users\\Teni\\Desktop\\Datasets May-April\\Salary_dataset.csv\")"
   ]
  },
  {
   "cell_type": "code",
   "execution_count": 158,
   "id": "fd225f51",
   "metadata": {},
   "outputs": [
    {
     "data": {
      "text/html": [
       "<div>\n",
       "<style scoped>\n",
       "    .dataframe tbody tr th:only-of-type {\n",
       "        vertical-align: middle;\n",
       "    }\n",
       "\n",
       "    .dataframe tbody tr th {\n",
       "        vertical-align: top;\n",
       "    }\n",
       "\n",
       "    .dataframe thead th {\n",
       "        text-align: right;\n",
       "    }\n",
       "</style>\n",
       "<table border=\"1\" class=\"dataframe\">\n",
       "  <thead>\n",
       "    <tr style=\"text-align: right;\">\n",
       "      <th></th>\n",
       "      <th>YearsExperience</th>\n",
       "      <th>Salary</th>\n",
       "    </tr>\n",
       "  </thead>\n",
       "  <tbody>\n",
       "    <tr>\n",
       "      <th>0</th>\n",
       "      <td>1.2</td>\n",
       "      <td>39344</td>\n",
       "    </tr>\n",
       "    <tr>\n",
       "      <th>1</th>\n",
       "      <td>1.4</td>\n",
       "      <td>46206</td>\n",
       "    </tr>\n",
       "    <tr>\n",
       "      <th>2</th>\n",
       "      <td>1.6</td>\n",
       "      <td>37732</td>\n",
       "    </tr>\n",
       "    <tr>\n",
       "      <th>3</th>\n",
       "      <td>2.1</td>\n",
       "      <td>43526</td>\n",
       "    </tr>\n",
       "    <tr>\n",
       "      <th>4</th>\n",
       "      <td>2.3</td>\n",
       "      <td>39892</td>\n",
       "    </tr>\n",
       "  </tbody>\n",
       "</table>\n",
       "</div>"
      ],
      "text/plain": [
       "   YearsExperience  Salary\n",
       "0              1.2   39344\n",
       "1              1.4   46206\n",
       "2              1.6   37732\n",
       "3              2.1   43526\n",
       "4              2.3   39892"
      ]
     },
     "execution_count": 158,
     "metadata": {},
     "output_type": "execute_result"
    }
   ],
   "source": [
    "df.head()"
   ]
  },
  {
   "cell_type": "code",
   "execution_count": 160,
   "id": "77fd912c",
   "metadata": {},
   "outputs": [
    {
     "data": {
      "text/html": [
       "<div>\n",
       "<style scoped>\n",
       "    .dataframe tbody tr th:only-of-type {\n",
       "        vertical-align: middle;\n",
       "    }\n",
       "\n",
       "    .dataframe tbody tr th {\n",
       "        vertical-align: top;\n",
       "    }\n",
       "\n",
       "    .dataframe thead th {\n",
       "        text-align: right;\n",
       "    }\n",
       "</style>\n",
       "<table border=\"1\" class=\"dataframe\">\n",
       "  <thead>\n",
       "    <tr style=\"text-align: right;\">\n",
       "      <th></th>\n",
       "      <th>YearsExperience</th>\n",
       "      <th>Salary</th>\n",
       "    </tr>\n",
       "  </thead>\n",
       "  <tbody>\n",
       "    <tr>\n",
       "      <th>count</th>\n",
       "      <td>30.000000</td>\n",
       "      <td>30.000000</td>\n",
       "    </tr>\n",
       "    <tr>\n",
       "      <th>mean</th>\n",
       "      <td>5.413333</td>\n",
       "      <td>76004.000000</td>\n",
       "    </tr>\n",
       "    <tr>\n",
       "      <th>std</th>\n",
       "      <td>2.837888</td>\n",
       "      <td>27414.429785</td>\n",
       "    </tr>\n",
       "    <tr>\n",
       "      <th>min</th>\n",
       "      <td>1.200000</td>\n",
       "      <td>37732.000000</td>\n",
       "    </tr>\n",
       "    <tr>\n",
       "      <th>25%</th>\n",
       "      <td>3.300000</td>\n",
       "      <td>56721.750000</td>\n",
       "    </tr>\n",
       "    <tr>\n",
       "      <th>50%</th>\n",
       "      <td>4.800000</td>\n",
       "      <td>65238.000000</td>\n",
       "    </tr>\n",
       "    <tr>\n",
       "      <th>75%</th>\n",
       "      <td>7.800000</td>\n",
       "      <td>100545.750000</td>\n",
       "    </tr>\n",
       "    <tr>\n",
       "      <th>max</th>\n",
       "      <td>10.600000</td>\n",
       "      <td>122392.000000</td>\n",
       "    </tr>\n",
       "  </tbody>\n",
       "</table>\n",
       "</div>"
      ],
      "text/plain": [
       "       YearsExperience         Salary\n",
       "count        30.000000      30.000000\n",
       "mean          5.413333   76004.000000\n",
       "std           2.837888   27414.429785\n",
       "min           1.200000   37732.000000\n",
       "25%           3.300000   56721.750000\n",
       "50%           4.800000   65238.000000\n",
       "75%           7.800000  100545.750000\n",
       "max          10.600000  122392.000000"
      ]
     },
     "execution_count": 160,
     "metadata": {},
     "output_type": "execute_result"
    }
   ],
   "source": [
    "df.describe()"
   ]
  },
  {
   "cell_type": "code",
   "execution_count": 168,
   "id": "7ad47920",
   "metadata": {},
   "outputs": [
    {
     "data": {
      "text/plain": [
       "<AxesSubplot:xlabel='YearsExperience', ylabel='Salary'>"
      ]
     },
     "execution_count": 168,
     "metadata": {},
     "output_type": "execute_result"
    },
    {
     "data": {
      "image/png": "[encoded data removed]",
      "text/plain": [
       "<Figure size 640x480 with 1 Axes>"
      ]
     },
     "metadata": {},
     "output_type": "display_data"
    }
   ],
   "source": [
    "sns.regplot(data=df, x= 'YearsExperience', y = 'Salary')\n",
    "\n",
    "# at experience 0, the data shows the salary is just below 40000 (start pay)"
   ]
  },
  {
   "cell_type": "markdown",
   "id": "29c6de92",
   "metadata": {},
   "source": [
    "**- Much as the pay has always been individually negotiated, there's a linear reationship between the years of experience and the salaries**"
   ]
  },
  {
   "cell_type": "code",
   "execution_count": 169,
   "id": "f29338c4",
   "metadata": {},
   "outputs": [],
   "source": [
    "X = df['YearsExperience']\n",
    "y = df['Salary']"
   ]
  },
  {
   "cell_type": "markdown",
   "id": "5629a089",
   "metadata": {},
   "source": [
    "**Because the dataset has only one Feature, the Simple Linear Regression will be used.**"
   ]
  },
  {
   "cell_type": "code",
   "execution_count": 172,
   "id": "52da51a7",
   "metadata": {},
   "outputs": [
    {
     "data": {
      "text/plain": [
       "array([ 9449.96232146, 24848.20396652])"
      ]
     },
     "execution_count": 172,
     "metadata": {},
     "output_type": "execute_result"
    }
   ],
   "source": [
    "# y = mx+b\n",
    "\n",
    "np.polyfit(X, y, deg=1)\n",
    "\n",
    "# the starting salary an 0-year expereince is #24848"
   ]
  },
  {
   "cell_type": "markdown",
   "id": "0709d389",
   "metadata": {},
   "source": [
    "### Predict using the equation"
   ]
  },
  {
   "cell_type": "code",
   "execution_count": 161,
   "id": "787e8653",
   "metadata": {},
   "outputs": [
    {
     "data": {
      "text/plain": [
       "array([ 1.        ,  1.31034483,  1.62068966,  1.93103448,  2.24137931,\n",
       "        2.55172414,  2.86206897,  3.17241379,  3.48275862,  3.79310345,\n",
       "        4.10344828,  4.4137931 ,  4.72413793,  5.03448276,  5.34482759,\n",
       "        5.65517241,  5.96551724,  6.27586207,  6.5862069 ,  6.89655172,\n",
       "        7.20689655,  7.51724138,  7.82758621,  8.13793103,  8.44827586,\n",
       "        8.75862069,  9.06896552,  9.37931034,  9.68965517, 10.        ])"
      ]
     },
     "execution_count": 161,
     "metadata": {},
     "output_type": "execute_result"
    }
   ],
   "source": [
    "pro_exp = np.linspace(1,10, 30)\n",
    "\n",
    "pro_exp"
   ]
  },
  {
   "cell_type": "code",
   "execution_count": 162,
   "id": "3c7dcb6d",
   "metadata": {},
   "outputs": [
    {
     "data": {
      "text/plain": [
       "array([ 34298.16628798,  37230.91321533,  40163.66014268,  43096.40707003,\n",
       "        46029.15399738,  48961.90092473,  51894.64785208,  54827.39477943,\n",
       "        57760.14170678,  60692.88863413,  63625.63556148,  66558.38248883,\n",
       "        69491.12941618,  72423.87634353,  75356.62327088,  78289.37019822,\n",
       "        81222.11712557,  84154.86405292,  87087.61098027,  90020.35790762,\n",
       "        92953.10483497,  95885.85176232,  98818.59868967, 101751.34561702,\n",
       "       104684.09254437, 107616.83947172, 110549.58639907, 113482.33332642,\n",
       "       116415.08025377, 119347.82718112])"
      ]
     },
     "execution_count": 162,
     "metadata": {},
     "output_type": "execute_result"
    }
   ],
   "source": [
    "pred_sal = 9449.96232146*pro_exp + 24848.20396652\n",
    "pred_sal"
   ]
  },
  {
   "cell_type": "code",
   "execution_count": 163,
   "id": "c99a8cd3",
   "metadata": {},
   "outputs": [
    {
     "data": {
      "text/plain": [
       "[<matplotlib.lines.Line2D at 0x2097bd9d700>]"
      ]
     },
     "execution_count": 163,
     "metadata": {},
     "output_type": "execute_result"
    },
    {
     "data": {
      "image/png": "[encoded data removed]",
      "text/plain": [
       "<Figure size 640x480 with 1 Axes>"
      ]
     },
     "metadata": {},
     "output_type": "display_data"
    }
   ],
   "source": [
    "sns.scatterplot(data=df, x='YearsExperience', y='Salary')\n",
    "plt.plot(pro_exp, pred_sal, color='red')"
   ]
  },
  {
   "cell_type": "markdown",
   "id": "ba8292ac",
   "metadata": {},
   "source": [
    "**The HR team approached me, saying we have 2 new cabdidates whose years of experiences are 10 and 5; asking how much the offer should be**"
   ]
  },
  {
   "cell_type": "code",
   "execution_count": 182,
   "id": "79d5ecad",
   "metadata": {},
   "outputs": [
    {
     "name": "stdout",
     "output_type": "stream",
     "text": [
      "For a 10_year work experience, the salary offer should be: $ 119347.83\n"
     ]
    }
   ],
   "source": [
    "exp = 10\n",
    "pred_sal = 9449.96232146*exp + 24848.20396652\n",
    "\n",
    "print(\"For a 10-year work experience, the salary offer should be: $\", round(pred_sal, 2))"
   ]
  },
  {
   "cell_type": "code",
   "execution_count": 183,
   "id": "957b40b3",
   "metadata": {
    "scrolled": true
   },
   "outputs": [
    {
     "name": "stdout",
     "output_type": "stream",
     "text": [
      "For a 5-year work experience, the salary offer should be: $ 72098.02\n"
     ]
    }
   ],
   "source": [
    "exp=5\n",
    "pred_sal = 9449.96232146*exp + 24848.20396652\n",
    "\n",
    "print(\"For a 5-year work experience, the salary offer should be: $\", round(pred_sal, 2))"
   ]
  },
  {
   "cell_type": "markdown",
   "id": "b46f5125",
   "metadata": {},
   "source": [
    "### Conclusion:\n",
    "\n",
    "By aligning roles with these well-defined job levels, the organization provides a transparent roadmap for career advancement. By using the equation (y = m*(years of experience) + b), managers are able to negotiate fairly when hiring new talents- without ofshooting the payscale within the organization.\n",
    "\n",
    "\n",
    "1. **Fair and Transparent Pay Scale:** The proposed salary framework introduces a fair and transparent pay scale by using a polyfit equation derived from the array ([9449.96232146, 24848.20396652]). This equation, represented as y = mx + b, determines salaries (y) based on years of experience (x). By relying on this mathematical approach, the organization eliminates potential biases and ensures consistency in compensation across all roles and levels.\n",
    "\n",
    "2. **Well-Defined Career Progression:** The framework establishes clear job levels, enabling structured career growth and progression within the organization. These job levels are:\n",
    "\n",
    "   - a. Analyst: Covering professionals with 0-2 years of experience in their field.\n",
    "   - b. Associate: Encompassing individuals with 2-4 years of relevant experience.\n",
    "   - c. Senior Associate: For those with 4-6 years of demonstrated expertise.\n",
    "   - d. Lead: Recognizing professionals with 6-8 years of significant experience and leadership capabilities.\n",
    "   - e. Manager: Reserved for seasoned individuals with 8-10 years of extensive experience and managerial responsibilities.\n"
   ]
  },
  {
   "cell_type": "code",
   "execution_count": null,
   "id": "3afdf321",
   "metadata": {},
   "outputs": [],
   "source": []
  },
  {
   "cell_type": "code",
   "execution_count": null,
   "id": "4a7a7229",
   "metadata": {},
   "outputs": [],
   "source": []
  }
 ],
 "metadata": {
  "kernelspec": {
   "display_name": "Python 3 (ipykernel)",
   "language": "python",
   "name": "python3"
  },
  "language_info": {
   "codemirror_mode": {
    "name": "ipython",
    "version": 3
   },
   "file_extension": ".py",
   "mimetype": "text/x-python",
   "name": "python",
   "nbconvert_exporter": "python",
   "pygments_lexer": "ipython3",
   "version": "3.9.13"
  }
 },
 "nbformat": 4,
 "nbformat_minor": 5
}
